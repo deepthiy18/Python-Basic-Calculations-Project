{
  "nbformat": 4,
  "nbformat_minor": 0,
  "metadata": {
    "colab": {
      "provenance": []
    },
    "kernelspec": {
      "name": "python3",
      "display_name": "Python 3"
    },
    "language_info": {
      "name": "python"
    }
  },
  "cells": [
    {
      "cell_type": "markdown",
      "source": [
        " Q1: You are working in a bank, and you have been given two lists of the employees who worked in 2021.\n",
        "Employees’ names in\n",
        "\n",
        "list 1 are Ramesh, Suresh, Mahesh, Ali, Jacob, and Saritha.\n",
        "\n",
        " List 2 contains the names of Ali, Mukesh, Mahesh, Jacob, Sai, and Sarita.\n",
        "\n",
        " Please write a program that helps to identify people who are common in both lists. Please do not use any in-built function."
      ],
      "metadata": {
        "id": "vP4GqWQRxlYn"
      }
    },
    {
      "cell_type": "code",
      "source": [
        "list1=[\"Ramesh\",\"Suresh\", \"Mahesh\", \"Ali\", \"Jacob\",\"Saritha\"]\n",
        "list2=[\"Ali\",\"Mahesh\",\"Jacob\",\"Sai\",\"Sarita\"]\n",
        "common_employees=[]\n",
        "for employee in list1:\n",
        "  if employee in list2:\n",
        "    common_employees.append(employee)\n",
        "print(common_employees)                       # it doesn't print saritha because spelling change saritha in list 1 and list2"
      ],
      "metadata": {
        "colab": {
          "base_uri": "https://localhost:8080/"
        },
        "id": "FpIvv1cvFYE8",
        "outputId": "53380956-a79f-4ca9-8672-44e9ca079268"
      },
      "execution_count": null,
      "outputs": [
        {
          "output_type": "stream",
          "name": "stdout",
          "text": [
            "['Mahesh', 'Ali', 'Jacob']\n"
          ]
        }
      ]
    },
    {
      "cell_type": "code",
      "source": [
        "# by using intersection\n",
        "list1=[\"Ramesh\",\"Suresh\", \"Mahesh\", \"Ali\", \"Jacob\",\"Saritha\"]\n",
        "list2=[\"Ali\",\"Mahesh\",\"Jacob\",\"Sai\",\"Sarita\"]\n",
        "# first you need to convert list into set\n",
        "set1=set(list1).intersection(set(list2))\n",
        "set1\n",
        "list(set1)"
      ],
      "metadata": {
        "colab": {
          "base_uri": "https://localhost:8080/"
        },
        "id": "IXqMkTzKn_dW",
        "outputId": "a9cfeb1a-aec8-45c4-cc10-d3afdcba6721"
      },
      "execution_count": null,
      "outputs": [
        {
          "output_type": "execute_result",
          "data": {
            "text/plain": [
              "['Ali', 'Mahesh', 'Jacob']"
            ]
          },
          "metadata": {},
          "execution_count": 1
        }
      ]
    },
    {
      "cell_type": "markdown",
      "source": [
        "Q2: While entering data, someone entered a few names as a common string “Ramesh Suresh Mohit”. Please write a program which separates all the names and converts them into a list. Once converted into a list, please write a program that adds their age.\n",
        "\n",
        "Ramesh: 25\n",
        "\n",
        "Suresh: 22\n",
        "\n",
        "Mohit: 26"
      ],
      "metadata": {
        "id": "8tO6ps78xZpt"
      }
    },
    {
      "cell_type": "code",
      "source": [
        "given = \"Ramesh Suresh Mohit \"\n",
        "lst=[]                                    #to store the names and age together\n",
        "                                          # Split the string into a list of names\n",
        "list1 = given.split()\n",
        "print(list1)\n",
        "                                          # Define scores of student\n",
        "list2 = [25,22,26]\n",
        "                                          # combine two lists together we are using zip function\n",
        "list_age = dict(zip(list1, list2))\n",
        "print(list_age)                           # here we are getting output as dictionary\n",
        "                                         # here i am converting dictionary to list\n",
        "lst = list(list_age.items())\n",
        "print(lst)\n",
        "print(\"sum of ages\",sum(list2))\n"
      ],
      "metadata": {
        "colab": {
          "base_uri": "https://localhost:8080/"
        },
        "id": "gy5fb9Cy1eZO",
        "outputId": "eff9e6d1-54ed-43a9-ae84-3f2c94c7d410"
      },
      "execution_count": null,
      "outputs": [
        {
          "output_type": "stream",
          "name": "stdout",
          "text": [
            "['Ramesh', 'Suresh', 'Mohit']\n",
            "{'Ramesh': 25, 'Suresh': 22, 'Mohit': 26}\n",
            "[('Ramesh', 25), ('Suresh', 22), ('Mohit', 26)]\n",
            "sum of ages 73\n"
          ]
        }
      ]
    },
    {
      "cell_type": "code",
      "source": [
        "# using for loop\n",
        "name_string = \"Ramesh Suresh Mohit\"\n",
        "\n",
        "name_list = name_string.split()  # Split the string by whitespace\n",
        "print(list(name_list))\n",
        "\n",
        "ages = {'Ramesh': 25, 'Suresh': 22, 'Mohit': 26}\n",
        "\n",
        "name_list_age= []\n",
        "\n",
        "for name in name_list:\n",
        "    if name in ages:\n",
        "        age = ages[name]\n",
        "        name_list_age.append((name, age))\n",
        "\n",
        "print(name_list_age)\n",
        "# In the above program, the names list contains the names obtained from the previous step.\n",
        "# The ages dictionary stores the ages for each name. The program iterates over each name in the names list and checks if it exists as a key in the ages dictionary.\n",
        "# If a matching name is found, its age is retrieved from the ages dictionary and added as a pair (name, age) to the name_age_pairs list."
      ],
      "metadata": {
        "colab": {
          "base_uri": "https://localhost:8080/"
        },
        "id": "I-ppf6rBy02C",
        "outputId": "9ca01103-5370-46fb-c4b7-3a821147987a"
      },
      "execution_count": null,
      "outputs": [
        {
          "output_type": "stream",
          "name": "stdout",
          "text": [
            "['Ramesh', 'Suresh', 'Mohit']\n",
            "[('Ramesh', 25), ('Suresh', 22), ('Mohit', 26)]\n"
          ]
        }
      ]
    },
    {
      "cell_type": "markdown",
      "source": [
        "Q3: You are working in a medical store.\n",
        " A patient came to your medical store and asked to buy 2 strips of paracetamol, 3 strips of azithromycin, and 5 strips of Vitamin C. One strip of paracetamol costs Rs 35, one strip of azithromycin costs Rs 49, and one strip of vitamin c costs Rs. 33. Patient gave you Rs 2000. Please tell us what is the total cost of each medicine, the total cost of all medicine, and how much money you refunded to the patient"
      ],
      "metadata": {
        "id": "HtG9lv_G0Lgp"
      }
    },
    {
      "cell_type": "code",
      "source": [
        "paracetamol_price = int(input(\"\"))\n",
        "azithromycin_price = int(input(\"\"))\n",
        "vitamin_c_price = int(input(\"\"))\n",
        "                                           # if user want input\n",
        "paracetamol_quantity = int(input(\"\"))\n",
        "azithromycin_quantity = int(input(\"\"))\n",
        "vitamin_c_quantity = int(input(\"\"))\n",
        "\n",
        "total_cost_paracetamol = paracetamol_price * paracetamol_quantity\n",
        "total_cost_azithromycin = azithromycin_price * azithromycin_quantity\n",
        "total_cost_vitamin_c = vitamin_c_price * vitamin_c_quantity\n",
        "\n",
        "total_cost_all_medicines = (\n",
        "    total_cost_paracetamol + total_cost_azithromycin + total_cost_vitamin_c\n",
        ")\n",
        "\n",
        "patient_payment = int(input(\"\"))\n",
        "\n",
        "refund_amount = patient_payment - total_cost_all_medicines\n",
        "\n",
        "print(\"Total cost of Paracetamol: Rs\", total_cost_paracetamol)\n",
        "print(\"Total cost of Azithromycin: Rs\", total_cost_azithromycin)\n",
        "print(\"Total cost of Vitamin C: Rs\", total_cost_vitamin_c)\n",
        "print(\"Total cost of all medicines: Rs\", total_cost_all_medicines)\n",
        "print(\"Refund amount: Rs\", refund_amount)"
      ],
      "metadata": {
        "colab": {
          "base_uri": "https://localhost:8080/"
        },
        "id": "NrkPmgZc0Y8r",
        "outputId": "d69a2164-d2fd-4216-a306-78dbb566cf2f"
      },
      "execution_count": null,
      "outputs": [
        {
          "output_type": "stream",
          "name": "stdout",
          "text": [
            "35\n",
            "49\n",
            "33\n",
            "2\n",
            "3\n",
            "5\n",
            "2000\n",
            "Total cost of Paracetamol: Rs 70\n",
            "Total cost of Azithromycin: Rs 147\n",
            "Total cost of Vitamin C: Rs 165\n",
            "Total cost of all medicines: Rs 382\n",
            "Refund amount: Rs 1618\n"
          ]
        }
      ]
    },
    {
      "cell_type": "code",
      "source": [
        "paracetamol_price = 35\n",
        "azithromycin_price = 49       # hardcoding\n",
        "vitamin_c_price = 33\n",
        "\n",
        "paracetamol_quantity = 2\n",
        "azithromycin_quantity = 3\n",
        "vitamin_c_quantity = 5\n",
        "\n",
        "total_cost_paracetamol = paracetamol_price * paracetamol_quantity\n",
        "total_cost_azithromycin = azithromycin_price * azithromycin_quantity\n",
        "total_cost_vitamin_c = vitamin_c_price * vitamin_c_quantity\n",
        "\n",
        "total_cost_all_medicines = (\n",
        "    total_cost_paracetamol + total_cost_azithromycin + total_cost_vitamin_c\n",
        ")\n",
        "\n",
        "patient_payment = 2000\n",
        "\n",
        "refund_amount = patient_payment - total_cost_all_medicines\n",
        "\n",
        "print(\"Total cost of Paracetamol: Rs\", total_cost_paracetamol)\n",
        "print(\"Total cost of Azithromycin: Rs\", total_cost_azithromycin)\n",
        "print(\"Total cost of Vitamin C: Rs\", total_cost_vitamin_c)\n",
        "print(\"Total cost of all medicines: Rs\", total_cost_all_medicines)\n",
        "print(\"Refund amount: Rs\", refund_amount)"
      ],
      "metadata": {
        "colab": {
          "base_uri": "https://localhost:8080/"
        },
        "id": "6-6M_IqgpLpg",
        "outputId": "8eb26f8d-4466-45d8-a9c9-810fa623772a"
      },
      "execution_count": null,
      "outputs": [
        {
          "output_type": "stream",
          "name": "stdout",
          "text": [
            "Total cost of Paracetamol: Rs 70\n",
            "Total cost of Azithromycin: Rs 147\n",
            "Total cost of Vitamin C: Rs 165\n",
            "Total cost of all medicines: Rs 382\n",
            "Refund amount: Rs 1618\n"
          ]
        }
      ]
    },
    {
      "cell_type": "markdown",
      "source": [
        "Q4: Accept a sentence as input and find the number of vowels in it. Assume that the sentence has no punctuation marks.\n",
        "\n",
        "For example, I am learning python contains 6 vowels.\n",
        "This function should be applicable for all other different sentences."
      ],
      "metadata": {
        "id": "Bl5_UQRz17Sn"
      }
    },
    {
      "cell_type": "code",
      "source": [
        "                                           # Get the input sentence from the user\n",
        "sentence = input(\"Enter a sentence: \")\n",
        "\n",
        "                                            # Define the  vowels\n",
        "vowels = 'aeiouAEIOU'\n",
        "\n",
        "                                            # Initialize a counter for the number of vowels\n",
        "num_vowels = 0\n",
        "\n",
        "                                            # Loop through each character in the sentence\n",
        "for char in sentence:                       # here we are giving input in sentence\n",
        "\n",
        "                                            # If the character is a vowel, increment the vowel counter\n",
        "    if char in vowels:\n",
        "        num_vowels += 1   # here for 1st iteration 0+=1=1 that 1 ia stored in num_vowels,2nd iteration 1+=1=2,3rd(m)=2+=0=2,then 4th iteration (l)=2,5th iteration e so 2+=1=3,....\n",
        "\n",
        "# Print the number of vowels in the sentence\n",
        "print(\"Number of vowels in the sentence:\", num_vowels)\n"
      ],
      "metadata": {
        "colab": {
          "base_uri": "https://localhost:8080/"
        },
        "id": "boZPs_-e2NHf",
        "outputId": "b18165a7-fb20-4527-dab0-af9fda5f2995"
      },
      "execution_count": null,
      "outputs": [
        {
          "output_type": "stream",
          "name": "stdout",
          "text": [
            "Enter a sentence: I am learning python\n",
            "Number of vowels in the sentence: 6\n"
          ]
        }
      ]
    },
    {
      "cell_type": "markdown",
      "source": [
        "Q5: You have been appointed by the election commission to create a website. Your first task is to work on a program which tells candidates if they are eligible for voting or not. If they are eligible, your output should be ‘Congrats! You are eligible’; otherwise, it should tell that you have to return after X number of years. The eligibility criteria for voting is 18 years.\n",
        "\n",
        "\n",
        "For example, If someone is 18 or above, your output should be ‘Congrats! You are eligible’. If someone’s age is 15 years, it should print output as ‘return after 3 years’."
      ],
      "metadata": {
        "id": "lyKAhMqY475e"
      }
    },
    {
      "cell_type": "code",
      "source": [
        "age=int(input(\" \"))\n",
        "if  age>=18:\n",
        "  print('Congrats! You are eligible')\n",
        "else:\n",
        "   years_to_wait= 18 - age\n",
        "   print('return after 3 years')"
      ],
      "metadata": {
        "colab": {
          "base_uri": "https://localhost:8080/"
        },
        "id": "7B4vTxPt5FHN",
        "outputId": "4faf5bee-75cc-4cc5-98ce-cca27f9e5fc4"
      },
      "execution_count": null,
      "outputs": [
        {
          "output_type": "stream",
          "name": "stdout",
          "text": [
            " 15\n",
            "return after 3 years\n"
          ]
        }
      ]
    },
    {
      "cell_type": "markdown",
      "source": [
        "\n",
        "Q6: Given a list of integers, find the cumulative sum of the elements of the list and store them in another list.\n",
        "\n",
        "\n",
        "A = [1, 2, 3, 4, 5]\n",
        "\n",
        "\n",
        "Output:\n",
        "\n",
        "[1, 3, 6, 10, 15]"
      ],
      "metadata": {
        "id": "ZKDzh-OI5PYJ"
      }
    },
    {
      "cell_type": "code",
      "source": [
        "a=[1, 2, 3, 4, 5]\n",
        "cumulative_sum = []\n",
        "current_sum = 0\n",
        "for num in a:\n",
        "        current_sum += num  # here what happens for first iteration 1 that is 0+=1 that gives 1 2nd iteration 1+=2 that is 3,3rd iteration we have current_Sum=3 so 3+=3=6,6+=4=10,next=15\n",
        "        cumulative_sum.append(current_sum)\n",
        "print(cumulative_sum)"
      ],
      "metadata": {
        "colab": {
          "base_uri": "https://localhost:8080/"
        },
        "id": "C57lnAMf5gFi",
        "outputId": "a5738e13-3ed6-471a-c117-ecc922693c29"
      },
      "execution_count": null,
      "outputs": [
        {
          "output_type": "stream",
          "name": "stdout",
          "text": [
            "[1, 3, 6, 10, 15]\n"
          ]
        }
      ]
    },
    {
      "cell_type": "markdown",
      "source": [
        "Q7:\n",
        "\n",
        "WAP to encode a message entered by user as per below conditions:\n",
        "\n",
        "\n",
        "\n",
        "for every word in the sentence,\n",
        "\n",
        "1. If the word starts with a vowel, encode it as first and last letter of the word.\n",
        "\n",
        "2. If the word starts with a consonant, remove all vowels from it.\n",
        "\n",
        "\n",
        "\n",
        "Ensure the case insensitive comparisions/checks are performed.\n",
        "\n",
        "\n",
        "\n",
        "Please enter your text:The quick brown fox used to sleep inside this box\n",
        "\n",
        "Encoded Msg: Th qck brwn fx ud t slp ie ths bx"
      ],
      "metadata": {
        "id": "cQwDYi8E7M8p"
      }
    },
    {
      "cell_type": "code",
      "source": [
        "sentence = input(\"Please enter your text: \")\n",
        "vowels = 'aeiouAEIOU'\n",
        "encoded_words = []\n",
        "words = sentence.split()\n",
        "for word in words:\n",
        "    if word[0] in vowels:\n",
        "      # encode the word as the first & last letter\n",
        "        encoded_words.append(word[0] + word[-1])\n",
        "    else:\n",
        "      # remove vowels from the word\n",
        "        encoded_word = \"\"                  # here the means starts with consonent so we are giving empty string so it searches char by char first t,h,e\n",
        "        for char in word:\n",
        "          if char not in vowels:           # here t,h are consonants here we are getting th in char in 1st iteration so\n",
        "            encoded_word=encoded_word+char\n",
        "        encoded_words.append(encoded_word)     # adding the consonants only \"th\"\n",
        "# here i am joining words back in to sentence\n",
        "encoded_sentence = \" \".join(encoded_words)\n",
        "# here i am printing the encoded sentence\n",
        "print(\"encoded sentence:\",encoded_sentence)"
      ],
      "metadata": {
        "colab": {
          "base_uri": "https://localhost:8080/"
        },
        "id": "lH6oufGsdIj4",
        "outputId": "f7d89303-7ec5-440d-af4c-11a741ec0479"
      },
      "execution_count": null,
      "outputs": [
        {
          "output_type": "stream",
          "name": "stdout",
          "text": [
            "Please enter your text: The quick brown fox used to sleep inside this box\n",
            "encoded sentence: Th qck brwn fx ud t slp ie ths bx\n"
          ]
        }
      ]
    },
    {
      "cell_type": "markdown",
      "source": [
        "\n",
        "Q8:\n",
        "\n",
        "Write a program to implement run length encoding of a string\n",
        "\n",
        "\n",
        "\n",
        "RLE:Consecutive repetition of a character has to be replaced with the count of occurances and the character.\n",
        "\n",
        "\n",
        "\n",
        "Enter your string :aabbbccdddae\n",
        "\n",
        "Encoded: 2a3b2c3d1a1e"
      ],
      "metadata": {
        "id": "LsWwTOUUEOII"
      }
    },
    {
      "cell_type": "code",
      "source": [
        "string=input(\"\")\n",
        "encoded_string = \"\"\n",
        "count = 1\n",
        "n = len(string)\n",
        "for char in range(1, n):     # here range we are getting (1,12) that is the length of the string we are getting\n",
        "  if string[char] == string[char-1]:        # here it compares particular index with the previous index\n",
        "    count += 1                               # if the index matches it add's 1\n",
        "  else:\n",
        "    encoded_string += str(count) + string[char-1]   # count of char plus previous char 2a,2b,2c...like that\n",
        "    count = 1\n",
        "\n",
        "encoded_string += str(count) + string[n-1]        # Add the encoding for the last character count 1+e(12-1=11th index) here\n",
        "\n",
        "print(encoded_string)\n"
      ],
      "metadata": {
        "colab": {
          "base_uri": "https://localhost:8080/"
        },
        "id": "YAeNMEqdEYf0",
        "outputId": "228d50d1-1971-449b-9594-6193045f9643"
      },
      "execution_count": null,
      "outputs": [
        {
          "output_type": "stream",
          "name": "stdout",
          "text": [
            "aabbbccdddae\n",
            "2a3b2c3d1a1e\n"
          ]
        }
      ]
    }
  ]
}